{
 "cells": [
  {
   "cell_type": "markdown",
   "metadata": {},
   "source": [
    "Pandas Tutorial \n",
    "\n",
    "Learned or refered from \n",
    "\n",
    "https://pandas.pydata.org/\n",
    "\n",
    "https://www.youtube.com/watch?v=BN0nnnadFl0\n",
    "\n"
   ]
  },
  {
   "cell_type": "markdown",
   "metadata": {},
   "source": []
  },
  {
   "cell_type": "code",
   "execution_count": null,
   "metadata": {},
   "outputs": [],
   "source": [
    "!pip install -U ipykernel"
   ]
  },
  {
   "cell_type": "markdown",
   "metadata": {},
   "source": [
    "install pandas"
   ]
  },
  {
   "cell_type": "code",
   "execution_count": null,
   "metadata": {},
   "outputs": [],
   "source": [
    "!pip install pandas"
   ]
  },
  {
   "cell_type": "markdown",
   "metadata": {},
   "source": [
    "importing library"
   ]
  },
  {
   "cell_type": "code",
   "execution_count": null,
   "metadata": {},
   "outputs": [],
   "source": [
    "import pandas as pd\n",
    "#pd is alias to use pandas further in code \n"
   ]
  },
  {
   "cell_type": "markdown",
   "metadata": {},
   "source": [
    "Creating and printing dataframes"
   ]
  },
  {
   "cell_type": "code",
   "execution_count": null,
   "metadata": {},
   "outputs": [],
   "source": [
    "\n",
    "df = pd.DataFrame (\n",
    "    {\n",
    "        \"Name\" : [ \"Amar\", \"Akbar\", \"Anthony\"],\n",
    "        \"Age\" : [ 18, 21, 25],\n",
    "        \"Gender\" : [\"M\" , \"M\", \"M\"],\n",
    "    }\n",
    ")\n",
    "\n",
    "print(df)\n",
    "\n",
    "#we will read specific Column item for ex Age below \n",
    "print(df[\"Age\"]) \n",
    "\n",
    "print (df[\"Age\"].describe())"
   ]
  }
 ],
 "metadata": {
  "kernelspec": {
   "display_name": "Python 3",
   "language": "python",
   "name": "python3"
  },
  "language_info": {
   "name": "python",
   "version": "3.12.4"
  }
 },
 "nbformat": 4,
 "nbformat_minor": 2
}
